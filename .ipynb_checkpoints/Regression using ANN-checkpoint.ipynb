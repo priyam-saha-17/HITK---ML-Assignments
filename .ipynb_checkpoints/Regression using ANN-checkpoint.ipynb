{
 "cells": [
  {
   "cell_type": "markdown",
   "id": "c2c5fc42",
   "metadata": {},
   "source": [
    "# Regression using ANN"
   ]
  },
  {
   "cell_type": "markdown",
   "id": "87320b0f",
   "metadata": {},
   "source": [
    "## --------PRIYAM SAHA (CSE-A, Roll - 2051267)"
   ]
  },
  {
   "cell_type": "markdown",
   "id": "34af77d8",
   "metadata": {},
   "source": [
    "## Please implement ANN as an estimator. Execute your program on the data provided earlier (named \"MV_Reg_noisy_data.csv\").  Please compare the performance with the linear and non-linear regressions you have implemented."
   ]
  },
  {
   "cell_type": "markdown",
   "id": "2dbae725",
   "metadata": {},
   "source": [
    "### 1.  Importing the dataset"
   ]
  },
  {
   "cell_type": "code",
   "execution_count": 1,
   "id": "83f5287f",
   "metadata": {},
   "outputs": [],
   "source": [
    "import pandas as pd\n",
    "data_set = pd.read_csv(\"C:/Users/DELL/Desktop/HITK ML NOTEBOOKS/MV_Reg_noisy_data.csv\")"
   ]
  },
  {
   "cell_type": "code",
   "execution_count": 2,
   "id": "7e1b9a5c",
   "metadata": {},
   "outputs": [
    {
     "data": {
      "text/html": [
       "<div>\n",
       "<style scoped>\n",
       "    .dataframe tbody tr th:only-of-type {\n",
       "        vertical-align: middle;\n",
       "    }\n",
       "\n",
       "    .dataframe tbody tr th {\n",
       "        vertical-align: top;\n",
       "    }\n",
       "\n",
       "    .dataframe thead th {\n",
       "        text-align: right;\n",
       "    }\n",
       "</style>\n",
       "<table border=\"1\" class=\"dataframe\">\n",
       "  <thead>\n",
       "    <tr style=\"text-align: right;\">\n",
       "      <th></th>\n",
       "      <th>x</th>\n",
       "      <th>y</th>\n",
       "    </tr>\n",
       "  </thead>\n",
       "  <tbody>\n",
       "    <tr>\n",
       "      <th>0</th>\n",
       "      <td>3.068406</td>\n",
       "      <td>-3.755872</td>\n",
       "    </tr>\n",
       "    <tr>\n",
       "      <th>1</th>\n",
       "      <td>1.923489</td>\n",
       "      <td>-4.195847</td>\n",
       "    </tr>\n",
       "    <tr>\n",
       "      <th>2</th>\n",
       "      <td>1.888703</td>\n",
       "      <td>-0.728367</td>\n",
       "    </tr>\n",
       "    <tr>\n",
       "      <th>3</th>\n",
       "      <td>3.663629</td>\n",
       "      <td>0.933993</td>\n",
       "    </tr>\n",
       "    <tr>\n",
       "      <th>4</th>\n",
       "      <td>2.265348</td>\n",
       "      <td>-5.185469</td>\n",
       "    </tr>\n",
       "    <tr>\n",
       "      <th>...</th>\n",
       "      <td>...</td>\n",
       "      <td>...</td>\n",
       "    </tr>\n",
       "    <tr>\n",
       "      <th>295</th>\n",
       "      <td>2.704274</td>\n",
       "      <td>-0.890898</td>\n",
       "    </tr>\n",
       "    <tr>\n",
       "      <th>296</th>\n",
       "      <td>2.311912</td>\n",
       "      <td>-2.040911</td>\n",
       "    </tr>\n",
       "    <tr>\n",
       "      <th>297</th>\n",
       "      <td>0.956126</td>\n",
       "      <td>-4.873227</td>\n",
       "    </tr>\n",
       "    <tr>\n",
       "      <th>298</th>\n",
       "      <td>4.210267</td>\n",
       "      <td>-1.093269</td>\n",
       "    </tr>\n",
       "    <tr>\n",
       "      <th>299</th>\n",
       "      <td>2.747562</td>\n",
       "      <td>0.877354</td>\n",
       "    </tr>\n",
       "  </tbody>\n",
       "</table>\n",
       "<p>300 rows × 2 columns</p>\n",
       "</div>"
      ],
      "text/plain": [
       "            x         y\n",
       "0    3.068406 -3.755872\n",
       "1    1.923489 -4.195847\n",
       "2    1.888703 -0.728367\n",
       "3    3.663629  0.933993\n",
       "4    2.265348 -5.185469\n",
       "..        ...       ...\n",
       "295  2.704274 -0.890898\n",
       "296  2.311912 -2.040911\n",
       "297  0.956126 -4.873227\n",
       "298  4.210267 -1.093269\n",
       "299  2.747562  0.877354\n",
       "\n",
       "[300 rows x 2 columns]"
      ]
     },
     "execution_count": 2,
     "metadata": {},
     "output_type": "execute_result"
    }
   ],
   "source": [
    "data_set"
   ]
  },
  {
   "cell_type": "markdown",
   "id": "4486fee5",
   "metadata": {},
   "source": [
    "### 2. Visualizing all the points in the dataset"
   ]
  },
  {
   "cell_type": "code",
   "execution_count": 3,
   "id": "70eb53a2",
   "metadata": {},
   "outputs": [],
   "source": [
    "import matplotlib.pyplot as plt\n",
    "import numpy as np\n",
    "import csv"
   ]
  },
  {
   "cell_type": "code",
   "execution_count": 4,
   "id": "9c8ba7cd",
   "metadata": {},
   "outputs": [
    {
     "data": {
      "image/png": "[encoded data removed]",
      "text/plain": [
       "<Figure size 432x288 with 1 Axes>"
      ]
     },
     "metadata": {
      "needs_background": "light"
     },
     "output_type": "display_data"
    }
   ],
   "source": [
    "x = []\n",
    "y = []\n",
    "\n",
    "file_name = \"C:/Users/DELL/Desktop/HITK ML NOTEBOOKS/MV_Reg_noisy_data.csv\"\n",
    "with open(file_name, mode = 'r') as file:\n",
    "    csvFile = csv.reader(file)\n",
    "    flag = 0\n",
    "    for row in csvFile:\n",
    "        if flag == 0:\n",
    "            flag = 1\n",
    "            continue\n",
    "        else:\n",
    "            x.append(float(row[0]))\n",
    "            y.append(float(row[1]))\n",
    "\n",
    "plt.scatter(x, y)\n",
    "plt.show()"
   ]
  },
  {
   "cell_type": "markdown",
   "id": "4ffbc94e",
   "metadata": {},
   "source": [
    "## 3. Building the datasets"
   ]
  },
  {
   "cell_type": "code",
   "execution_count": 5,
   "id": "2bb9bd98",
   "metadata": {},
   "outputs": [],
   "source": [
    "x = []\n",
    "y = []\n",
    "\n",
    "file_name = \"C:/Users/DELL/Desktop/HITK ML NOTEBOOKS/MV_Reg_noisy_data.csv\"\n",
    "with open(file_name, mode = 'r') as file:\n",
    "    csvFile = csv.reader(file)\n",
    "    flag = 0\n",
    "    for row in csvFile:\n",
    "        if flag == 0:\n",
    "            flag = 1\n",
    "            continue\n",
    "        else:\n",
    "            x.append([1.0, float(row[0])])       # x[i][0] = 1 is taken to adjust for the bias\n",
    "                                                 # x[i][1] is the actual input feature from given data\n",
    "            y.append(float(row[1]))"
   ]
  },
  {
   "cell_type": "markdown",
   "id": "1750e6c7",
   "metadata": {},
   "source": [
    "    "
   ]
  },
  {
   "cell_type": "markdown",
   "id": "89a46920",
   "metadata": {},
   "source": [
    "## 4. Regression using ANN "
   ]
  },
  {
   "cell_type": "code",
   "execution_count": 17,
   "id": "d3f139e9",
   "metadata": {},
   "outputs": [],
   "source": [
    "learning_rate = 0.001\n",
    "e = 2.7183\n",
    "\n",
    "\n",
    "\n",
    "\n",
    "def activation_func(x):       #phi = sigmoid function used\n",
    "    return e**x/(e**x + 1)\n",
    "def phi_dash(x):\n",
    "    return e**x / ( (e**x + 1)**2 )\n",
    "\n",
    "\n",
    "\n",
    "\n",
    "def Regression_using_ANN(input, output, num_of_iterations):\n",
    "    alpha = learning_rate\n",
    "    \n",
    "    # 16 + 1 = 17 nodes in hidden layer used ( plus 1 to account for bias)\n",
    "    \n",
    "    # input layer - 2 + 1 = 3 nodes\n",
    "    # hidden layer - 16 + 1 = 17 nodes\n",
    "    # output layer - 1 node\n",
    "    \n",
    "    # 3 - 17 - 1\n",
    "    \n",
    "    # So, for the hidden layer, weights matrix has dimensions - 17 * 2\n",
    "    weights1 = []                                           #initial hypothesis\n",
    "    for i in range(17):\n",
    "        weights1.append([0.25, 0.25])\n",
    "        \n",
    "    # For the output layer, weights matrix has dimensions - 1 * 17\n",
    "    weights2 = [[]]                                           #initial hypothesis\n",
    "    for i in range(17):\n",
    "        weights2[0].append(0.25)\n",
    "    \n",
    "    \n",
    "    E = []\n",
    "    iteration = []                  \n",
    "    \n",
    "    for iter in range(0, num_of_iterations):\n",
    "        \n",
    "        e = np.zeros(len(input), dtype = float)\n",
    "        \n",
    "        u1 = np.zeros([len(input), 17], dtype = float)\n",
    "        v1 = np.zeros([len(input), 17], dtype = float)            # Hidden Layer\n",
    "        \n",
    "        u2 = np.zeros([len(input), 1], dtype = float)\n",
    "        v2 = np.zeros([len(input), 1], dtype = float)            # Output Layer\n",
    "        \n",
    "        \n",
    "        mse = 0.0\n",
    "        for n in range(len(input)):\n",
    "            \n",
    "            # Feed Forward Algorithm\n",
    "            \n",
    "            u1[n][0] = 1.0              # To account for bias in the hidden layer\n",
    "            v1[n][0] = 1.0\n",
    "            \n",
    "            for j in range(1, 17):\n",
    "                u1[n][j] = 1.0\n",
    "                for i in range(2):\n",
    "                    u1[n][j] += input[n][i] * weights1[j][i]\n",
    "                v1[n][j] = activation_func(u1[n][j])\n",
    "            \n",
    "            k = 0\n",
    "            u2[n][k] = 0.0\n",
    "            for j in range(0, 17):\n",
    "                u2[n][k] += weights2[k][j] * v1[n][j]\n",
    "            v2[n][k] = u2[n][k]\n",
    "            \n",
    "            \n",
    "            error = 0.5 * ((output[n] - v2[n][k])**2)\n",
    "            e[n] = error\n",
    "            \n",
    "            \n",
    "            \n",
    "            # Back-Propagation(Rosenblatt's Algorithm)\n",
    "            \n",
    "            # First output layer\n",
    "            for j in range(17):\n",
    "                weights2[k][j] += alpha * (output[n] - v2[n][k]) * phi_dash(u2[n][k]) * v1[n][j]\n",
    "            \n",
    "            # Feedback conveyed to hidden layer\n",
    "            for i in range(2):\n",
    "                for j in range(17):\n",
    "                    summation = weights2[k][j] * (output[n] - v2[n][k]) * phi_dash(u2[n][k])\n",
    "                    weights1[j][i] += alpha * phi_dash(u1[n][j]) * summation * input[n][i]\n",
    "                    \n",
    "                    \n",
    "                    \n",
    "            mse += e[n]/len(input)\n",
    "            \n",
    "        E.append(mse)\n",
    "        iteration.append(iter)\n",
    "        #alpha /= 2\n",
    "        \n",
    "    return weights1, weights2, E, iteration"
   ]
  },
  {
   "cell_type": "markdown",
   "id": "246df78d",
   "metadata": {},
   "source": [
    "### Training using 70% of the given dataset"
   ]
  },
  {
   "cell_type": "code",
   "execution_count": 22,
   "id": "963b5be8",
   "metadata": {},
   "outputs": [
    {
     "data": {
      "image/png": "[encoded data removed]",
      "text/plain": [
       "<Figure size 720x360 with 1 Axes>"
      ]
     },
     "metadata": {
      "needs_background": "light"
     },
     "output_type": "display_data"
    }
   ],
   "source": [
    "weights1, weights2, E, iteration = Regression_using_ANN(x[:210], y[:210], 100) \n",
    "f = plt.figure()\n",
    "f.set_figwidth(10) \n",
    "f.set_figheight(5)\n",
    "plt.plot(iteration, E, label = \"Mean Squared Error(M.S.E.)\")\n",
    "plt.title(\"How Mean Squared Error(M.S.E.) decreases with each iteration....\")\n",
    "plt.xlabel(\"Iteration count --->\")\n",
    "plt.ylabel(\"M.S.E. --->\")\n",
    "plt.legend()\n",
    "plt.show() "
   ]
  },
  {
   "cell_type": "code",
   "execution_count": 23,
   "id": "168a9501",
   "metadata": {},
   "outputs": [
    {
     "name": "stdout",
     "output_type": "stream",
     "text": [
      "MSE error on the training dataset at the end of 100 epochs :  6.786\n"
     ]
    }
   ],
   "source": [
    "print(\"MSE error on the training dataset at the end of 100 epochs : \", round(E[-1], 5))"
   ]
  },
  {
   "cell_type": "markdown",
   "id": "63a013a7",
   "metadata": {},
   "source": [
    "### Testing using remaining 30% of the given dataset"
   ]
  },
  {
   "cell_type": "code",
   "execution_count": 24,
   "id": "7e4ed960",
   "metadata": {},
   "outputs": [],
   "source": [
    "e = 2.7183\n",
    "\n",
    "\n",
    "\n",
    "\n",
    "def activation_func(x):       #phi = sigmoid function used\n",
    "    return e**x/(e**x + 1)\n",
    "def phi_dash(x):\n",
    "    return e**x / ( (e**x + 1)**2 )\n",
    "\n",
    "\n",
    "\n",
    "\n",
    "def Test_analysis_ANN(input, output):\n",
    "        \n",
    "    u1 = np.zeros([len(input), 17], dtype = float)\n",
    "    v1 = np.zeros([len(input), 17], dtype = float)            # Hidden Layer\n",
    "        \n",
    "    u2 = np.zeros([len(input), 1], dtype = float)\n",
    "    v2 = np.zeros([len(input), 1], dtype = float)            # Output Layer\n",
    "        \n",
    "        \n",
    "    mse = 0.0\n",
    "    for n in range(len(input)):\n",
    "        # Feed Forward Algorithm\n",
    "            \n",
    "        u1[n][0] = 1.0              # To account for bias in the hidden layer\n",
    "        v1[n][0] = 1.0\n",
    "            \n",
    "        for j in range(1, 17):\n",
    "            u1[n][j] = 1.0\n",
    "            for i in range(2):\n",
    "                u1[n][j] += input[n][i] * weights1[j][i]\n",
    "            v1[n][j] = activation_func(u1[n][j])\n",
    "            \n",
    "        k = 0\n",
    "        u2[n][k] = 0.0\n",
    "        for j in range(0, 17):\n",
    "            u2[n][k] += weights2[k][j] * v1[n][j]\n",
    "        v2[n][k] = u2[n][k]\n",
    "            \n",
    "            \n",
    "        error = 0.5 * ((output[n] - v2[n][k])**2)\n",
    "        mse += error/len(input)\n",
    "        \n",
    "    return mse"
   ]
  },
  {
   "cell_type": "code",
   "execution_count": 25,
   "id": "eb7ff3cf",
   "metadata": {},
   "outputs": [
    {
     "name": "stdout",
     "output_type": "stream",
     "text": [
      "Mean Squared Error on the test dataset in case of regression using ANN:  5.1796\n"
     ]
    }
   ],
   "source": [
    "mse = Test_analysis_ANN(x[210:], y[210:]) \n",
    "print(\"Mean Squared Error on the test dataset in case of regression using ANN: \", round(mse, 5))"
   ]
  },
  {
   "cell_type": "markdown",
   "id": "ad94a976",
   "metadata": {},
   "source": [
    "    "
   ]
  },
  {
   "cell_type": "markdown",
   "id": "ed0dc955",
   "metadata": {},
   "source": [
    "    "
   ]
  },
  {
   "cell_type": "markdown",
   "id": "13c07cae",
   "metadata": {},
   "source": [
    "    "
   ]
  },
  {
   "cell_type": "markdown",
   "id": "3f24f2f4",
   "metadata": {},
   "source": [
    "    "
   ]
  },
  {
   "cell_type": "markdown",
   "id": "0e142ea2",
   "metadata": {},
   "source": [
    "    "
   ]
  },
  {
   "cell_type": "markdown",
   "id": "9184ab3b",
   "metadata": {},
   "source": [
    "    "
   ]
  },
  {
   "cell_type": "markdown",
   "id": "098784b0",
   "metadata": {},
   "source": [
    "## 5. Comparing with linear and non-linear regressions"
   ]
  },
  {
   "cell_type": "markdown",
   "id": "cc501d7a",
   "metadata": {},
   "source": [
    "### A. Linear Regression"
   ]
  },
  {
   "cell_type": "code",
   "execution_count": 114,
   "id": "60c0b81b",
   "metadata": {},
   "outputs": [],
   "source": [
    "x = []\n",
    "y = []\n",
    "\n",
    "file_name = \"C:/Users/DELL/Desktop/HITK ML NOTEBOOKS/MV_Reg_noisy_data.csv\"\n",
    "with open(file_name, mode = 'r') as file:\n",
    "    csvFile = csv.reader(file)\n",
    "    flag = 0\n",
    "    for row in csvFile:\n",
    "        if flag == 0:\n",
    "            flag = 1\n",
    "            continue\n",
    "        else:\n",
    "            x.append(float(row[0]))\n",
    "            y.append(float(row[1]))"
   ]
  },
  {
   "cell_type": "code",
   "execution_count": 115,
   "id": "998ab8e1",
   "metadata": {},
   "outputs": [],
   "source": [
    "alpha = 0.01          # Learning rate \n",
    "\n",
    "def lin_regression(num_of_iterations, num_of_training_samples):\n",
    "    in_sample_error = []\n",
    "    out_sample_error = []\n",
    "    iteration = []\n",
    "    i = 1\n",
    "    w = [5.0, 5.0]         # Initial assumption\n",
    "    while (i <= num_of_iterations):\n",
    "        j = 0\n",
    "        while j < num_of_training_samples:\n",
    "            X = x[j]\n",
    "            Y = y[j]\n",
    "            w[0] -= alpha * ( w[0] + w[1]*X - Y)\n",
    "            w[1] -= alpha * ( w[0] + w[1]*X - Y)*X\n",
    "            j += 1\n",
    "        \n",
    "        j = 0\n",
    "        in_error = 0\n",
    "        while j < num_of_training_samples:\n",
    "            X = x[j]\n",
    "            Y = y[j]\n",
    "            in_error += ((Y - w[0] - w[1]*X)**2)\n",
    "            j += 1\n",
    "        in_error = in_error / num_of_training_samples \n",
    "        \n",
    "        j = num_of_training_samples\n",
    "        out_error = 0\n",
    "        while j < 300:\n",
    "            X = x[j]\n",
    "            Y = y[j]\n",
    "            out_error += ((Y - w[0] - w[1]*X)**2)\n",
    "            j += 1\n",
    "        out_error = out_error / (300 - num_of_training_samples)\n",
    "        \n",
    "        in_sample_error.append(in_error)\n",
    "        out_sample_error.append(out_error)\n",
    "        iteration.append(i)\n",
    "        i +=1\n",
    "    return w, iteration, in_sample_error, out_sample_error"
   ]
  },
  {
   "cell_type": "code",
   "execution_count": 116,
   "id": "e7d4f0d3",
   "metadata": {},
   "outputs": [
    {
     "data": {
      "image/png": "[encoded data removed]",
      "text/plain": [
       "<Figure size 720x360 with 1 Axes>"
      ]
     },
     "metadata": {
      "needs_background": "light"
     },
     "output_type": "display_data"
    }
   ],
   "source": [
    "coefficients, iteration, in_sample_error, out_sample_error = lin_regression(100, 210)\n",
    "f = plt.figure()\n",
    "f.set_figwidth(10)    \n",
    "f.set_figheight(5)\n",
    "plt.plot(iteration, in_sample_error, label = \"in_sample error\")\n",
    "plt.plot(iteration, out_sample_error, label = \"out_sample error\")\n",
    "plt.title(\"How Sum of Square Error(S.S.E.) decreases with each iteration....\")\n",
    "plt.xlabel(\"Iteration count --->\")\n",
    "plt.ylabel(\"S.S.E. --->\")\n",
    "plt.legend()\n",
    "plt.show() "
   ]
  },
  {
   "cell_type": "code",
   "execution_count": 117,
   "id": "53afcfc9",
   "metadata": {},
   "outputs": [
    {
     "name": "stdout",
     "output_type": "stream",
     "text": [
      "Mean Squared Error on the test dataset in case of Linear regression:  5.85088\n"
     ]
    }
   ],
   "source": [
    "print(\"Mean Squared Error on the test dataset in case of Linear regression: \", round(out_sample_error[-1], 5))"
   ]
  },
  {
   "cell_type": "markdown",
   "id": "c5794a38",
   "metadata": {},
   "source": [
    "    "
   ]
  },
  {
   "cell_type": "markdown",
   "id": "310cce00",
   "metadata": {},
   "source": [
    "### B. Cubic Regression"
   ]
  },
  {
   "cell_type": "code",
   "execution_count": 118,
   "id": "2801c027",
   "metadata": {},
   "outputs": [],
   "source": [
    "alpha = 0.0001          # Learning rate \n",
    "\n",
    "def cubic_regression(num_of_iterations, num_of_training_samples):\n",
    "    in_sample_error = []\n",
    "    out_sample_error = []\n",
    "    iteration = []\n",
    "    i = 1\n",
    "    w = [2, 2, 2, 2]      # Initial assumption\n",
    "    while (i <= num_of_iterations):\n",
    "        j = 0\n",
    "        while j < num_of_training_samples:\n",
    "            X = x[j]\n",
    "            Y = y[j]\n",
    "            w[0] -= alpha * ( w[0] + w[1]*X + w[2]*X*X + w[3]*X*X*X - Y)\n",
    "            w[1] -= alpha * ( w[0] + w[1]*X + w[2]*X*X + w[3]*X*X*X - Y)*X\n",
    "            w[2] -= alpha * ( w[0] + w[1]*X + w[2]*X*X + w[3]*X*X*X - Y)*X**2\n",
    "            w[3] -= alpha * ( w[0] + w[1]*X + w[2]*X*X + w[3]*X*X*X - Y)*X**3\n",
    "            j += 1\n",
    "        \n",
    "        j = 0\n",
    "        in_error = 0\n",
    "        while j < num_of_training_samples:\n",
    "            X = x[j]\n",
    "            Y = y[j]\n",
    "            in_error += (Y - w[0] - w[1]*X - w[2]*X*X - w[3]*X*X*X)**2\n",
    "            j += 1\n",
    "        in_error = in_error / num_of_training_samples\n",
    "        \n",
    "        j = num_of_training_samples\n",
    "        out_error = 0\n",
    "        while j < 300:\n",
    "            X = x[j]\n",
    "            Y = y[j]\n",
    "            out_error += ((Y - w[0] - w[1]*X - w[2]*X*X - w[3]*X*X*X)**2)\n",
    "            j += 1\n",
    "        out_error = out_error / (300 - num_of_training_samples)\n",
    "        \n",
    "        in_sample_error.append(in_error)\n",
    "        out_sample_error.append(out_error)\n",
    "        iteration.append(i)\n",
    "        i +=1\n",
    "    return w, iteration, in_sample_error, out_sample_error"
   ]
  },
  {
   "cell_type": "code",
   "execution_count": 119,
   "id": "067c87db",
   "metadata": {},
   "outputs": [
    {
     "data": {
      "image/png": "[encoded data removed]",
      "text/plain": [
       "<Figure size 720x360 with 1 Axes>"
      ]
     },
     "metadata": {
      "needs_background": "light"
     },
     "output_type": "display_data"
    }
   ],
   "source": [
    "coefficients, iteration, in_sample_error, out_sample_error = cubic_regression(100, 210)\n",
    "f = plt.figure()\n",
    "f.set_figwidth(10)    \n",
    "f.set_figheight(5)\n",
    "plt.plot(iteration, in_sample_error, label = \"in_sample error\")\n",
    "plt.plot(iteration, out_sample_error, label = \"out_sample error\")\n",
    "plt.title(\"How Sum of Square Error(S.S.E.) decreases with each iteration....\")\n",
    "plt.xlabel(\"Iteration count --->\")\n",
    "plt.ylabel(\"S.S.E. --->\")\n",
    "plt.legend()\n",
    "plt.show() "
   ]
  },
  {
   "cell_type": "code",
   "execution_count": 120,
   "id": "c681b695",
   "metadata": {},
   "outputs": [
    {
     "name": "stdout",
     "output_type": "stream",
     "text": [
      "Mean Squared Error on the test dataset in case of Non-Linear(Cubic) regression:  6.51191\n"
     ]
    }
   ],
   "source": [
    "print(\"Mean Squared Error on the test dataset in case of Non-Linear(Cubic) regression: \", round(out_sample_error[-1], 5))"
   ]
  },
  {
   "cell_type": "markdown",
   "id": "83d6b632",
   "metadata": {},
   "source": [
    "    "
   ]
  },
  {
   "cell_type": "markdown",
   "id": "9e8b67e0",
   "metadata": {},
   "source": [
    "    "
   ]
  },
  {
   "cell_type": "markdown",
   "id": "3e1cd06a",
   "metadata": {},
   "source": [
    "    "
   ]
  },
  {
   "cell_type": "markdown",
   "id": "ad856478",
   "metadata": {},
   "source": [
    "    "
   ]
  },
  {
   "cell_type": "markdown",
   "id": "74a2f219",
   "metadata": {},
   "source": [
    "    "
   ]
  },
  {
   "cell_type": "markdown",
   "id": "e12770ee",
   "metadata": {},
   "source": [
    "## 6. Summary"
   ]
  },
  {
   "cell_type": "markdown",
   "id": "05f07b13",
   "metadata": {},
   "source": [
    "### The Mean Squared Error(MSE) as computed on the test dataset (last 30% of the given data), was found to be ---    ANN Estimation ---->  5.1796,                                                                                                                                                    Linear  Regression  -----> 5.85088 ,                                                                                                                                          Non-Linear Regression(cubic polynomial) ----->  6.51191."
   ]
  },
  {
   "cell_type": "markdown",
   "id": "1484be4a",
   "metadata": {},
   "source": [
    "## 7. CONCLUSION "
   ]
  },
  {
   "cell_type": "markdown",
   "id": "c6e83db9",
   "metadata": {},
   "source": [
    "### The ANN Estimation worked better than both Linear and Non-Linear Regression with the given dataset having non-linear dependencies(generated using polynomial function of degree 4)"
   ]
  }
 ],
 "metadata": {
  "kernelspec": {
   "display_name": "Python 3 (ipykernel)",
   "language": "python",
   "name": "python3"
  },
  "language_info": {
   "codemirror_mode": {
    "name": "ipython",
    "version": 3
   },
   "file_extension": ".py",
   "mimetype": "text/x-python",
   "name": "python",
   "nbconvert_exporter": "python",
   "pygments_lexer": "ipython3",
   "version": "3.9.12"
  }
 },
 "nbformat": 4,
 "nbformat_minor": 5
}
