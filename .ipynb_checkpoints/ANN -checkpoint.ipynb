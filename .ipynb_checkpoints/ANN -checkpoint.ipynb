{
 "cells": [
  {
   "cell_type": "markdown",
   "id": "fcbd1401",
   "metadata": {},
   "source": [
    "## IMPLEMENTING THE PERCEPTRON AS A SINGLE LAYER ANN"
   ]
  },
  {
   "cell_type": "markdown",
   "id": "76049084",
   "metadata": {},
   "source": [
    "## ----Priyam Saha (CSE - A, 2051267)"
   ]
  },
  {
   "cell_type": "markdown",
   "id": "881f5fb1",
   "metadata": {},
   "source": [
    "### 1.    Importing the datasets"
   ]
  },
  {
   "cell_type": "code",
   "execution_count": 4,
   "id": "8ba800ac",
   "metadata": {},
   "outputs": [],
   "source": [
    "import pandas as pd\n",
    "data_set1 = pd.read_csv(\"PLA_Data1.csv\")\n",
    "data_set2 = pd.read_csv(\"PLA_Data2.csv\")"
   ]
  },
  {
   "cell_type": "code",
   "execution_count": 5,
   "id": "927f5b95",
   "metadata": {},
   "outputs": [
    {
     "data": {
      "text/html": [
       "<div>\n",
       "<style scoped>\n",
       "    .dataframe tbody tr th:only-of-type {\n",
       "        vertical-align: middle;\n",
       "    }\n",
       "\n",
       "    .dataframe tbody tr th {\n",
       "        vertical-align: top;\n",
       "    }\n",
       "\n",
       "    .dataframe thead th {\n",
       "        text-align: right;\n",
       "    }\n",
       "</style>\n",
       "<table border=\"1\" class=\"dataframe\">\n",
       "  <thead>\n",
       "    <tr style=\"text-align: right;\">\n",
       "      <th></th>\n",
       "      <th>x1</th>\n",
       "      <th>x2</th>\n",
       "      <th>Class</th>\n",
       "    </tr>\n",
       "  </thead>\n",
       "  <tbody>\n",
       "    <tr>\n",
       "      <th>0</th>\n",
       "      <td>1.957778</td>\n",
       "      <td>2.326590</td>\n",
       "      <td>1</td>\n",
       "    </tr>\n",
       "    <tr>\n",
       "      <th>1</th>\n",
       "      <td>2.748971</td>\n",
       "      <td>2.558314</td>\n",
       "      <td>1</td>\n",
       "    </tr>\n",
       "    <tr>\n",
       "      <th>2</th>\n",
       "      <td>1.670267</td>\n",
       "      <td>1.232464</td>\n",
       "      <td>1</td>\n",
       "    </tr>\n",
       "    <tr>\n",
       "      <th>3</th>\n",
       "      <td>1.255596</td>\n",
       "      <td>0.550910</td>\n",
       "      <td>-1</td>\n",
       "    </tr>\n",
       "    <tr>\n",
       "      <th>4</th>\n",
       "      <td>0.452785</td>\n",
       "      <td>-1.586427</td>\n",
       "      <td>-1</td>\n",
       "    </tr>\n",
       "    <tr>\n",
       "      <th>...</th>\n",
       "      <td>...</td>\n",
       "      <td>...</td>\n",
       "      <td>...</td>\n",
       "    </tr>\n",
       "    <tr>\n",
       "      <th>194</th>\n",
       "      <td>3.003284</td>\n",
       "      <td>-1.313006</td>\n",
       "      <td>-1</td>\n",
       "    </tr>\n",
       "    <tr>\n",
       "      <th>195</th>\n",
       "      <td>1.441683</td>\n",
       "      <td>-1.846427</td>\n",
       "      <td>-1</td>\n",
       "    </tr>\n",
       "    <tr>\n",
       "      <th>196</th>\n",
       "      <td>2.319034</td>\n",
       "      <td>2.909991</td>\n",
       "      <td>1</td>\n",
       "    </tr>\n",
       "    <tr>\n",
       "      <th>197</th>\n",
       "      <td>1.774006</td>\n",
       "      <td>1.375610</td>\n",
       "      <td>1</td>\n",
       "    </tr>\n",
       "    <tr>\n",
       "      <th>198</th>\n",
       "      <td>0.164043</td>\n",
       "      <td>2.941511</td>\n",
       "      <td>1</td>\n",
       "    </tr>\n",
       "  </tbody>\n",
       "</table>\n",
       "<p>199 rows × 3 columns</p>\n",
       "</div>"
      ],
      "text/plain": [
       "           x1        x2  Class\n",
       "0    1.957778  2.326590      1\n",
       "1    2.748971  2.558314      1\n",
       "2    1.670267  1.232464      1\n",
       "3    1.255596  0.550910     -1\n",
       "4    0.452785 -1.586427     -1\n",
       "..        ...       ...    ...\n",
       "194  3.003284 -1.313006     -1\n",
       "195  1.441683 -1.846427     -1\n",
       "196  2.319034  2.909991      1\n",
       "197  1.774006  1.375610      1\n",
       "198  0.164043  2.941511      1\n",
       "\n",
       "[199 rows x 3 columns]"
      ]
     },
     "execution_count": 5,
     "metadata": {},
     "output_type": "execute_result"
    }
   ],
   "source": [
    "data_set1"
   ]
  },
  {
   "cell_type": "code",
   "execution_count": 6,
   "id": "cd339ef9",
   "metadata": {},
   "outputs": [
    {
     "data": {
      "text/html": [
       "<div>\n",
       "<style scoped>\n",
       "    .dataframe tbody tr th:only-of-type {\n",
       "        vertical-align: middle;\n",
       "    }\n",
       "\n",
       "    .dataframe tbody tr th {\n",
       "        vertical-align: top;\n",
       "    }\n",
       "\n",
       "    .dataframe thead th {\n",
       "        text-align: right;\n",
       "    }\n",
       "</style>\n",
       "<table border=\"1\" class=\"dataframe\">\n",
       "  <thead>\n",
       "    <tr style=\"text-align: right;\">\n",
       "      <th></th>\n",
       "      <th>x1</th>\n",
       "      <th>x2</th>\n",
       "      <th>Class</th>\n",
       "    </tr>\n",
       "  </thead>\n",
       "  <tbody>\n",
       "    <tr>\n",
       "      <th>0</th>\n",
       "      <td>1.957778</td>\n",
       "      <td>2.409601</td>\n",
       "      <td>1</td>\n",
       "    </tr>\n",
       "    <tr>\n",
       "      <th>1</th>\n",
       "      <td>2.748971</td>\n",
       "      <td>2.463960</td>\n",
       "      <td>1</td>\n",
       "    </tr>\n",
       "    <tr>\n",
       "      <th>2</th>\n",
       "      <td>1.670267</td>\n",
       "      <td>1.236578</td>\n",
       "      <td>1</td>\n",
       "    </tr>\n",
       "    <tr>\n",
       "      <th>3</th>\n",
       "      <td>1.255596</td>\n",
       "      <td>0.686478</td>\n",
       "      <td>-1</td>\n",
       "    </tr>\n",
       "    <tr>\n",
       "      <th>4</th>\n",
       "      <td>0.452785</td>\n",
       "      <td>-1.547923</td>\n",
       "      <td>-1</td>\n",
       "    </tr>\n",
       "    <tr>\n",
       "      <th>...</th>\n",
       "      <td>...</td>\n",
       "      <td>...</td>\n",
       "      <td>...</td>\n",
       "    </tr>\n",
       "    <tr>\n",
       "      <th>194</th>\n",
       "      <td>3.003284</td>\n",
       "      <td>-1.165412</td>\n",
       "      <td>-1</td>\n",
       "    </tr>\n",
       "    <tr>\n",
       "      <th>195</th>\n",
       "      <td>1.441683</td>\n",
       "      <td>-1.973354</td>\n",
       "      <td>-1</td>\n",
       "    </tr>\n",
       "    <tr>\n",
       "      <th>196</th>\n",
       "      <td>2.319034</td>\n",
       "      <td>2.826164</td>\n",
       "      <td>1</td>\n",
       "    </tr>\n",
       "    <tr>\n",
       "      <th>197</th>\n",
       "      <td>1.774006</td>\n",
       "      <td>1.501258</td>\n",
       "      <td>1</td>\n",
       "    </tr>\n",
       "    <tr>\n",
       "      <th>198</th>\n",
       "      <td>0.164043</td>\n",
       "      <td>2.985035</td>\n",
       "      <td>1</td>\n",
       "    </tr>\n",
       "  </tbody>\n",
       "</table>\n",
       "<p>199 rows × 3 columns</p>\n",
       "</div>"
      ],
      "text/plain": [
       "           x1        x2  Class\n",
       "0    1.957778  2.409601      1\n",
       "1    2.748971  2.463960      1\n",
       "2    1.670267  1.236578      1\n",
       "3    1.255596  0.686478     -1\n",
       "4    0.452785 -1.547923     -1\n",
       "..        ...       ...    ...\n",
       "194  3.003284 -1.165412     -1\n",
       "195  1.441683 -1.973354     -1\n",
       "196  2.319034  2.826164      1\n",
       "197  1.774006  1.501258      1\n",
       "198  0.164043  2.985035      1\n",
       "\n",
       "[199 rows x 3 columns]"
      ]
     },
     "execution_count": 6,
     "metadata": {},
     "output_type": "execute_result"
    }
   ],
   "source": [
    "data_set2"
   ]
  },
  {
   "cell_type": "markdown",
   "id": "00bfe36a",
   "metadata": {},
   "source": [
    "    "
   ]
  },
  {
   "cell_type": "markdown",
   "id": "84ddb854",
   "metadata": {},
   "source": [
    "    "
   ]
  },
  {
   "cell_type": "markdown",
   "id": "b8fb391f",
   "metadata": {},
   "source": [
    "    "
   ]
  },
  {
   "cell_type": "markdown",
   "id": "e9f668bf",
   "metadata": {},
   "source": [
    "## 2. Defining Lists for Input and Output"
   ]
  },
  {
   "cell_type": "code",
   "execution_count": 7,
   "id": "bd01efc8",
   "metadata": {},
   "outputs": [],
   "source": [
    "import matplotlib.pyplot as plt\n",
    "import numpy as np\n",
    "import csv"
   ]
  },
  {
   "cell_type": "code",
   "execution_count": 8,
   "id": "206cf0d4",
   "metadata": {},
   "outputs": [],
   "source": [
    "#  data_set 1\n",
    "\n",
    "X1 = []\n",
    "Y1 = []\n",
    "\n",
    "file_name = \"PLA_Data1.csv\"\n",
    "with open(file_name, mode = 'r') as file:\n",
    "    csvFile = csv.reader(file)\n",
    "    flag = 0\n",
    "    for row in csvFile:\n",
    "        if flag == 0:\n",
    "            flag = 1\n",
    "            continue\n",
    "        else:\n",
    "            X1.append([1.0, round(float(row[0]), 6), round(float(row[1]), 6)])   # X0 = 1\n",
    "            if int(row[2]) == 1:\n",
    "                Y1.append([0, 1])          # 0th index -> class -1 , 1st index -> class 1   (1-hot representation)\n",
    "            elif int(row[2]) == -1:\n",
    "                Y1.append([1, 0])\n",
    "\n",
    "#print(X1)\n",
    "#print(Y1)"
   ]
  },
  {
   "cell_type": "code",
   "execution_count": 9,
   "id": "a7cedf6e",
   "metadata": {},
   "outputs": [],
   "source": [
    "#  data_set 2\n",
    "\n",
    "X2 = []\n",
    "Y2 = []\n",
    "\n",
    "file_name = \"PLA_Data2.csv\"\n",
    "with open(file_name, mode = 'r') as file:\n",
    "    csvFile = csv.reader(file)\n",
    "    flag = 0\n",
    "    for row in csvFile:\n",
    "        if flag == 0:\n",
    "            flag = 1\n",
    "            continue\n",
    "        else:\n",
    "            X2.append([1.0, round(float(row[0]), 6), round(float(row[1]), 6)])       # X0 = 1\n",
    "            if int(row[2]) == 1:\n",
    "                Y2.append([0, 1])          # 0th index -> class -1 , 1st index -> class 1   (1-hot representation)\n",
    "            elif int(row[2]) == -1:\n",
    "                Y2.append([1, 0])\n",
    "\n",
    "#print(X2)\n",
    "#print(Y1)"
   ]
  },
  {
   "cell_type": "markdown",
   "id": "fb27060b",
   "metadata": {},
   "source": [
    "    "
   ]
  },
  {
   "cell_type": "markdown",
   "id": "fb860417",
   "metadata": {},
   "source": [
    "    "
   ]
  },
  {
   "cell_type": "markdown",
   "id": "4a6fb930",
   "metadata": {},
   "source": [
    "    "
   ]
  },
  {
   "cell_type": "markdown",
   "id": "d3fa71a2",
   "metadata": {},
   "source": [
    "## 3. Implementing the Single Layer ANN using Rosenblatt's Back Propagation Technique"
   ]
  },
  {
   "cell_type": "code",
   "execution_count": 10,
   "id": "f8afecc1",
   "metadata": {},
   "outputs": [],
   "source": [
    "learning_rate = 0.1\n",
    "e = 2.7183\n",
    "\n",
    "\n",
    "def activation_func(x):                        #phi = sigmoid function used\n",
    "    return e**x/(e**x + 1)\n",
    "def phi_dash(x):\n",
    "    return e**x / ( (e**x + 1)**2 )\n",
    "\n",
    "def ann(input, output, num_of_iterations):\n",
    "    alpha = learning_rate\n",
    "    weights = [ [1, 1, 1], [1, 1, 1] ]               #initial hypothesis\n",
    "    E = []\n",
    "    iteration = []\n",
    "    for iter in range(0, num_of_iterations):\n",
    "        e = np.zeros(len(input), dtype = float)\n",
    "        u = np.zeros([len(input), 2], dtype = float)\n",
    "        v = np.zeros([len(input), 2], dtype = float)\n",
    "        mse = 0.0\n",
    "        for n in range(len(input)):\n",
    "            error = 0.0\n",
    "            for j in range(2):\n",
    "                u[n][j] = 0.0\n",
    "                for i in range(3):\n",
    "                    u[n][j] += input[n][i] * weights[j][i]\n",
    "                v[n][j] = activation_func(u[n][j])\n",
    "                error += ((output[n][j] - v[n][j])**2)\n",
    "            error /= 2\n",
    "            e[n] = error\n",
    "            for j in range(2):\n",
    "                for i in range(3):\n",
    "                    weights[j][i] += (alpha * (float(output[n][j]) - v[n][j]) * phi_dash(u[n][j]) * input[n][i])\n",
    "            mse += e[n]/len(input)\n",
    "        E.append(mse)\n",
    "        iteration.append(iter)\n",
    "        alpha /= 2\n",
    "    return weights, E, iteration"
   ]
  },
  {
   "cell_type": "markdown",
   "id": "8c28948b",
   "metadata": {},
   "source": [
    "    "
   ]
  },
  {
   "cell_type": "markdown",
   "id": "e43d9a9b",
   "metadata": {},
   "source": [
    "        "
   ]
  },
  {
   "cell_type": "markdown",
   "id": "47fbb518",
   "metadata": {},
   "source": [
    "    "
   ]
  },
  {
   "cell_type": "markdown",
   "id": "6ce24262",
   "metadata": {},
   "source": [
    "    "
   ]
  },
  {
   "cell_type": "markdown",
   "id": "1420c17e",
   "metadata": {},
   "source": [
    "    "
   ]
  },
  {
   "cell_type": "markdown",
   "id": "0fc39539",
   "metadata": {},
   "source": [
    "## Running on the first data set"
   ]
  },
  {
   "cell_type": "code",
   "execution_count": 11,
   "id": "e543abe6",
   "metadata": {},
   "outputs": [
    {
     "data": {
      "image/png": "[encoded data removed]",
      "text/plain": [
       "<Figure size 720x360 with 1 Axes>"
      ]
     },
     "metadata": {
      "needs_background": "light"
     },
     "output_type": "display_data"
    }
   ],
   "source": [
    "weights, E, iteration = ann(X1, Y1, 50) \n",
    "f = plt.figure()\n",
    "f.set_figwidth(10) \n",
    "f.set_figheight(5)\n",
    "plt.plot(iteration, E, label = \"Mean Squared Error(M.S.E.)\")\n",
    "plt.title(\"How Mean Squared Error(M.S.E.) decreases with each iteration....\")\n",
    "plt.xlabel(\"Iteration count --->\")\n",
    "plt.ylabel(\"M.S.E. --->\")\n",
    "plt.legend()\n",
    "plt.show() "
   ]
  },
  {
   "cell_type": "code",
   "execution_count": 12,
   "id": "8151cb8f",
   "metadata": {},
   "outputs": [
    {
     "name": "stdout",
     "output_type": "stream",
     "text": [
      "The final weights list:\n",
      "1.03 0.802 0.102 \n",
      "-0.065 0.044 1.504 \n"
     ]
    }
   ],
   "source": [
    "print(\"The final weights list:\")\n",
    "for i in range(2):\n",
    "    for j in range(3):\n",
    "        print(round(weights[i][j], 3), end =\" \")\n",
    "    print()"
   ]
  },
  {
   "cell_type": "code",
   "execution_count": 14,
   "id": "983cad6e",
   "metadata": {},
   "outputs": [
    {
     "name": "stdout",
     "output_type": "stream",
     "text": [
      "After 50 iterations, the Mean Squared Error is :\n",
      "0.282\n"
     ]
    }
   ],
   "source": [
    "print(\"After 50 iterations, the Mean Squared Error is :\")\n",
    "print(round(E[-1], 3))"
   ]
  },
  {
   "cell_type": "markdown",
   "id": "af6f4898",
   "metadata": {},
   "source": [
    "    "
   ]
  },
  {
   "cell_type": "markdown",
   "id": "a1f82a90",
   "metadata": {},
   "source": [
    "    "
   ]
  },
  {
   "cell_type": "markdown",
   "id": "6ace21e5",
   "metadata": {},
   "source": [
    "    "
   ]
  },
  {
   "cell_type": "markdown",
   "id": "d39090d4",
   "metadata": {},
   "source": [
    "    "
   ]
  },
  {
   "cell_type": "markdown",
   "id": "38f406d7",
   "metadata": {},
   "source": [
    "    "
   ]
  },
  {
   "cell_type": "markdown",
   "id": "37011068",
   "metadata": {},
   "source": [
    "## Running on the second data set"
   ]
  },
  {
   "cell_type": "code",
   "execution_count": 15,
   "id": "122c8eb8",
   "metadata": {},
   "outputs": [
    {
     "data": {
      "image/png": "[encoded data removed]",
      "text/plain": [
       "<Figure size 720x360 with 1 Axes>"
      ]
     },
     "metadata": {
      "needs_background": "light"
     },
     "output_type": "display_data"
    }
   ],
   "source": [
    "weights, E, iteration = ann(X2, Y2, 50) \n",
    "f = plt.figure()\n",
    "f.set_figwidth(10) \n",
    "f.set_figheight(5)\n",
    "plt.plot(iteration, E, label = \"Mean Squared Error(M.S.E.)\")\n",
    "plt.title(\"How Mean Squared Error(M.S.E.) decreases with each iteration....\")\n",
    "plt.xlabel(\"Iteration count --->\")\n",
    "plt.ylabel(\"M.S.E. --->\")\n",
    "plt.legend()\n",
    "plt.show() "
   ]
  },
  {
   "cell_type": "code",
   "execution_count": 17,
   "id": "e8525613",
   "metadata": {},
   "outputs": [
    {
     "name": "stdout",
     "output_type": "stream",
     "text": [
      "The final weights list:\n",
      "1.028 0.802 0.087 \n",
      "-0.058 0.036 1.511 \n"
     ]
    }
   ],
   "source": [
    "print(\"The final weights list:\")\n",
    "for i in range(2):\n",
    "    for j in range(3):\n",
    "        print(round(weights[i][j], 3), end =\" \")\n",
    "    print()"
   ]
  },
  {
   "cell_type": "code",
   "execution_count": 18,
   "id": "cc2e117d",
   "metadata": {},
   "outputs": [
    {
     "name": "stdout",
     "output_type": "stream",
     "text": [
      "After 50 iterations, the Mean Squared Error is :\n",
      "0.281\n"
     ]
    }
   ],
   "source": [
    "print(\"After 50 iterations, the Mean Squared Error is :\")\n",
    "print(round(E[-1], 3))"
   ]
  }
 ],
 "metadata": {
  "kernelspec": {
   "display_name": "Python 3 (ipykernel)",
   "language": "python",
   "name": "python3"
  },
  "language_info": {
   "codemirror_mode": {
    "name": "ipython",
    "version": 3
   },
   "file_extension": ".py",
   "mimetype": "text/x-python",
   "name": "python",
   "nbconvert_exporter": "python",
   "pygments_lexer": "ipython3",
   "version": "3.9.12"
  }
 },
 "nbformat": 4,
 "nbformat_minor": 5
}
